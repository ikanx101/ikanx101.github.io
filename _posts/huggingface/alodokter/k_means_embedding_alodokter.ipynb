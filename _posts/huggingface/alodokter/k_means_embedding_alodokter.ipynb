{
  "cells": [
    {
      "cell_type": "markdown",
      "metadata": {
        "id": "view-in-github",
        "colab_type": "text"
      },
      "source": [
        "<a href=\"https://colab.research.google.com/github/ikanx101/ikanx101.github.io/blob/master/k_means_embedding_alodokter.ipynb\" target=\"_parent\"><img src=\"https://colab.research.google.com/assets/colab-badge.svg\" alt=\"Open In Colab\"/></a>"
      ]
    },
    {
      "cell_type": "code",
      "execution_count": 37,
      "metadata": {
        "id": "iOU0S3pEah2b"
      },
      "outputs": [],
      "source": [
        "#system(\"pip install sentence-transformers\")\n",
        "#install.packages(\"reticulate\")"
      ]
    },
    {
      "cell_type": "code",
      "execution_count": 38,
      "metadata": {
        "colab": {
          "base_uri": "https://localhost:8080/",
          "height": 129
        },
        "id": "JoSQSe-fW5_N",
        "outputId": "989ac565-1c41-4046-8466-764613ade290"
      },
      "outputs": [
        {
          "output_type": "display_data",
          "data": {
            "text/html": [
              "<table class=\"dataframe\">\n",
              "<caption>A matrix: 2 × 6 of type dbl</caption>\n",
              "<thead>\n",
              "\t<tr><th></th><th scope=col>used</th><th scope=col>(Mb)</th><th scope=col>gc trigger</th><th scope=col>(Mb)</th><th scope=col>max used</th><th scope=col>(Mb)</th></tr>\n",
              "</thead>\n",
              "<tbody>\n",
              "\t<tr><th scope=row>Ncells</th><td>1887083</td><td>100.8</td><td>2835818</td><td>151.5</td><td>2835818</td><td>151.5</td></tr>\n",
              "\t<tr><th scope=row>Vcells</th><td>3432054</td><td> 26.2</td><td>8388608</td><td> 64.0</td><td>7952915</td><td> 60.7</td></tr>\n",
              "</tbody>\n",
              "</table>\n"
            ],
            "text/markdown": "\nA matrix: 2 × 6 of type dbl\n\n| <!--/--> | used | (Mb) | gc trigger | (Mb) | max used | (Mb) |\n|---|---|---|---|---|---|---|\n| Ncells | 1887083 | 100.8 | 2835818 | 151.5 | 2835818 | 151.5 |\n| Vcells | 3432054 |  26.2 | 8388608 |  64.0 | 7952915 |  60.7 |\n\n",
            "text/latex": "A matrix: 2 × 6 of type dbl\n\\begin{tabular}{r|llllll}\n  & used & (Mb) & gc trigger & (Mb) & max used & (Mb)\\\\\n\\hline\n\tNcells & 1887083 & 100.8 & 2835818 & 151.5 & 2835818 & 151.5\\\\\n\tVcells & 3432054 &  26.2 & 8388608 &  64.0 & 7952915 &  60.7\\\\\n\\end{tabular}\n",
            "text/plain": [
              "       used    (Mb)  gc trigger (Mb)  max used (Mb) \n",
              "Ncells 1887083 100.8 2835818    151.5 2835818  151.5\n",
              "Vcells 3432054  26.2 8388608     64.0 7952915   60.7"
            ]
          },
          "metadata": {}
        }
      ],
      "source": [
        "rm(list=ls())\n",
        "gc()\n",
        "\n",
        "# Load necessary libraries\n",
        "library(reticulate)\n",
        "library(readr)\n",
        "library(dplyr)\n"
      ]
    },
    {
      "cell_type": "code",
      "execution_count": 39,
      "metadata": {
        "id": "4SceV3AxYEDF"
      },
      "outputs": [],
      "source": [
        "use_python(\"/usr/bin/python3\")"
      ]
    },
    {
      "cell_type": "code",
      "execution_count": 40,
      "metadata": {
        "id": "4gRUkVlxYvpV"
      },
      "outputs": [],
      "source": [
        "# Load Python libraries in R\n",
        "transformers <- reticulate::import(\"sentence_transformers\")\n",
        "\n",
        "# Load pre-trained sentence transformer model\n",
        "model <- transformers$SentenceTransformer('naufalihsan/indonesian-sbert-large')"
      ]
    },
    {
      "cell_type": "code",
      "execution_count": 41,
      "metadata": {
        "id": "NQIX98soNcvB"
      },
      "outputs": [],
      "source": [
        "# kita ambil data\n",
        "load(\"to colab.rda\")\n",
        "\n",
        "complaints = komen"
      ]
    },
    {
      "cell_type": "code",
      "execution_count": 42,
      "metadata": {
        "id": "8BPRFuK3bAY0"
      },
      "outputs": [],
      "source": [
        "complaint_embeddings <- model$encode(complaints)"
      ]
    },
    {
      "cell_type": "code",
      "execution_count": 43,
      "metadata": {
        "id": "SDOclBwKbFlP"
      },
      "outputs": [],
      "source": [
        "embeddings_matrix <- as.matrix(reticulate::py_to_r(complaint_embeddings))\n",
        "save(embeddings_matrix,file = \"to blog.rda\")"
      ]
    }
  ],
  "metadata": {
    "colab": {
      "provenance": [],
      "authorship_tag": "ABX9TyPSfVb+6oLm9grhvu7sP/55",
      "include_colab_link": true
    },
    "kernelspec": {
      "display_name": "R",
      "name": "ir"
    },
    "language_info": {
      "name": "R"
    }
  },
  "nbformat": 4,
  "nbformat_minor": 0
}